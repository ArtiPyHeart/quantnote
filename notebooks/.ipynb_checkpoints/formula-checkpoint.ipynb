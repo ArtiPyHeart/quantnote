{
 "cells": [
  {
   "cell_type": "markdown",
   "metadata": {},
   "source": [
    "# 量化投资范式总结\n",
    "\n",
    "objective function = factor risk + idiosyncratic risk - expected portfolio return + transaction costs\n",
    "\n",
    "FAQ:\n",
    "1. 无卖空约束？转化为不等式二次规划问题"
   ]
  },
  {
   "cell_type": "markdown",
   "metadata": {},
   "source": [
    "## 风险因子模型\n",
    "\n",
    "$$Var\\left( r_{p}\\right)  =h^{T}\\left( BFB^{T}+S\\right)h$$\n",
    "\n",
    "- B - 风险因子暴露度矩阵\n",
    "- F - 风险因子协方差矩阵\n",
    "- S - 特异性风险矩阵（残差）\n",
    "- h - 资产权重\n",
    "\n",
    "### 生成风险因子模型的两种方式\n",
    "\n",
    "- 商业风险因子模型\n",
    "- PCA风险因子模型"
   ]
  },
  {
   "cell_type": "code",
   "execution_count": null,
   "metadata": {},
   "outputs": [],
   "source": []
  }
 ],
 "metadata": {
  "kernelspec": {
   "display_name": "Python [conda env:py37]",
   "language": "python",
   "name": "conda-env-py37-py"
  },
  "language_info": {
   "codemirror_mode": {
    "name": "ipython",
    "version": 3
   },
   "file_extension": ".py",
   "mimetype": "text/x-python",
   "name": "python",
   "nbconvert_exporter": "python",
   "pygments_lexer": "ipython3",
   "version": "3.7.6"
  }
 },
 "nbformat": 4,
 "nbformat_minor": 4
}
